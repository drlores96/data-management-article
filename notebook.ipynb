{
 "cells": [
  {
   "cell_type": "code",
   "execution_count": 1,
   "metadata": {},
   "outputs": [
    {
     "name": "stdout",
     "output_type": "stream",
     "text": [
      "Processing /home/drlores/work/articles/medium/data-management-article\n",
      "  Installing build dependencies ... \u001b[?25ldone\n",
      "\u001b[?25h  Getting requirements to build wheel ... \u001b[?25ldone\n",
      "\u001b[?25h  Installing backend dependencies ... \u001b[?25ldone\n",
      "\u001b[?25h  Preparing metadata (pyproject.toml) ... \u001b[?25ldone\n",
      "\u001b[?25hRequirement already satisfied: pandas in /home/drlores/micromamba/envs/env/lib/python3.8/site-packages (from data_manager==1.0.0) (2.0.3)\n",
      "Requirement already satisfied: fsspec in /home/drlores/micromamba/envs/env/lib/python3.8/site-packages (from data_manager==1.0.0) (2024.2.0)\n",
      "Requirement already satisfied: mlflow in /home/drlores/micromamba/envs/env/lib/python3.8/site-packages (from data_manager==1.0.0) (2.10.2)\n",
      "Requirement already satisfied: sqlalchemy in /home/drlores/micromamba/envs/env/lib/python3.8/site-packages (from data_manager==1.0.0) (1.4.51)\n",
      "Requirement already satisfied: pydantic in /home/drlores/micromamba/envs/env/lib/python3.8/site-packages (from data_manager==1.0.0) (2.6.1)\n",
      "Requirement already satisfied: matplotlib in /home/drlores/micromamba/envs/env/lib/python3.8/site-packages (from data_manager==1.0.0) (3.7.4)\n",
      "Requirement already satisfied: s3fs in /home/drlores/micromamba/envs/env/lib/python3.8/site-packages (from data_manager==1.0.0) (2024.2.0)\n",
      "Requirement already satisfied: contourpy>=1.0.1 in /home/drlores/micromamba/envs/env/lib/python3.8/site-packages (from matplotlib->data_manager==1.0.0) (1.1.1)\n",
      "Requirement already satisfied: cycler>=0.10 in /home/drlores/micromamba/envs/env/lib/python3.8/site-packages (from matplotlib->data_manager==1.0.0) (0.12.1)\n",
      "Requirement already satisfied: fonttools>=4.22.0 in /home/drlores/micromamba/envs/env/lib/python3.8/site-packages (from matplotlib->data_manager==1.0.0) (4.48.1)\n",
      "Requirement already satisfied: kiwisolver>=1.0.1 in /home/drlores/micromamba/envs/env/lib/python3.8/site-packages (from matplotlib->data_manager==1.0.0) (1.4.5)\n",
      "Requirement already satisfied: numpy<2,>=1.20 in /home/drlores/micromamba/envs/env/lib/python3.8/site-packages (from matplotlib->data_manager==1.0.0) (1.24.4)\n",
      "Requirement already satisfied: packaging>=20.0 in /home/drlores/micromamba/envs/env/lib/python3.8/site-packages (from matplotlib->data_manager==1.0.0) (23.2)\n",
      "Requirement already satisfied: pillow>=6.2.0 in /home/drlores/micromamba/envs/env/lib/python3.8/site-packages (from matplotlib->data_manager==1.0.0) (10.2.0)\n",
      "Requirement already satisfied: pyparsing>=2.3.1 in /home/drlores/micromamba/envs/env/lib/python3.8/site-packages (from matplotlib->data_manager==1.0.0) (3.1.1)\n",
      "Requirement already satisfied: python-dateutil>=2.7 in /home/drlores/micromamba/envs/env/lib/python3.8/site-packages (from matplotlib->data_manager==1.0.0) (2.8.2)\n",
      "Requirement already satisfied: importlib-resources>=3.2.0 in /home/drlores/micromamba/envs/env/lib/python3.8/site-packages (from matplotlib->data_manager==1.0.0) (6.1.1)\n",
      "Requirement already satisfied: click<9,>=7.0 in /home/drlores/micromamba/envs/env/lib/python3.8/site-packages (from mlflow->data_manager==1.0.0) (8.1.7)\n",
      "Requirement already satisfied: cloudpickle<4 in /home/drlores/micromamba/envs/env/lib/python3.8/site-packages (from mlflow->data_manager==1.0.0) (3.0.0)\n",
      "Requirement already satisfied: entrypoints<1 in /home/drlores/micromamba/envs/env/lib/python3.8/site-packages (from mlflow->data_manager==1.0.0) (0.4)\n",
      "Requirement already satisfied: gitpython<4,>=2.1.0 in /home/drlores/micromamba/envs/env/lib/python3.8/site-packages (from mlflow->data_manager==1.0.0) (3.1.41)\n",
      "Requirement already satisfied: pyyaml<7,>=5.1 in /home/drlores/micromamba/envs/env/lib/python3.8/site-packages (from mlflow->data_manager==1.0.0) (6.0.1)\n",
      "Requirement already satisfied: protobuf<5,>=3.12.0 in /home/drlores/micromamba/envs/env/lib/python3.8/site-packages (from mlflow->data_manager==1.0.0) (4.25.2)\n",
      "Requirement already satisfied: pytz<2024 in /home/drlores/micromamba/envs/env/lib/python3.8/site-packages (from mlflow->data_manager==1.0.0) (2023.4)\n",
      "Requirement already satisfied: requests<3,>=2.17.3 in /home/drlores/micromamba/envs/env/lib/python3.8/site-packages (from mlflow->data_manager==1.0.0) (2.31.0)\n",
      "Requirement already satisfied: importlib-metadata!=4.7.0,<8,>=3.7.0 in /home/drlores/micromamba/envs/env/lib/python3.8/site-packages (from mlflow->data_manager==1.0.0) (7.0.1)\n",
      "Requirement already satisfied: sqlparse<1,>=0.4.0 in /home/drlores/micromamba/envs/env/lib/python3.8/site-packages (from mlflow->data_manager==1.0.0) (0.4.4)\n",
      "Requirement already satisfied: alembic!=1.10.0,<2 in /home/drlores/micromamba/envs/env/lib/python3.8/site-packages (from mlflow->data_manager==1.0.0) (1.13.1)\n",
      "Requirement already satisfied: docker<8,>=4.0.0 in /home/drlores/micromamba/envs/env/lib/python3.8/site-packages (from mlflow->data_manager==1.0.0) (7.0.0)\n",
      "Requirement already satisfied: Flask<4 in /home/drlores/micromamba/envs/env/lib/python3.8/site-packages (from mlflow->data_manager==1.0.0) (3.0.2)\n",
      "Requirement already satisfied: scipy<2 in /home/drlores/micromamba/envs/env/lib/python3.8/site-packages (from mlflow->data_manager==1.0.0) (1.10.1)\n",
      "Requirement already satisfied: querystring-parser<2 in /home/drlores/micromamba/envs/env/lib/python3.8/site-packages (from mlflow->data_manager==1.0.0) (1.2.4)\n",
      "Requirement already satisfied: scikit-learn<2 in /home/drlores/micromamba/envs/env/lib/python3.8/site-packages (from mlflow->data_manager==1.0.0) (1.3.2)\n",
      "Requirement already satisfied: pyarrow<16,>=4.0.0 in /home/drlores/micromamba/envs/env/lib/python3.8/site-packages (from mlflow->data_manager==1.0.0) (15.0.0)\n",
      "Requirement already satisfied: markdown<4,>=3.3 in /home/drlores/micromamba/envs/env/lib/python3.8/site-packages (from mlflow->data_manager==1.0.0) (3.5.2)\n",
      "Requirement already satisfied: gunicorn<22 in /home/drlores/micromamba/envs/env/lib/python3.8/site-packages (from mlflow->data_manager==1.0.0) (21.2.0)\n",
      "Requirement already satisfied: Jinja2<4,>=2.11 in /home/drlores/micromamba/envs/env/lib/python3.8/site-packages (from mlflow->data_manager==1.0.0) (3.1.3)\n",
      "Requirement already satisfied: tzdata>=2022.1 in /home/drlores/micromamba/envs/env/lib/python3.8/site-packages (from pandas->data_manager==1.0.0) (2024.1)\n",
      "Requirement already satisfied: greenlet!=0.4.17 in /home/drlores/micromamba/envs/env/lib/python3.8/site-packages (from sqlalchemy->data_manager==1.0.0) (3.0.3)\n",
      "Requirement already satisfied: annotated-types>=0.4.0 in /home/drlores/micromamba/envs/env/lib/python3.8/site-packages (from pydantic->data_manager==1.0.0) (0.6.0)\n",
      "Requirement already satisfied: pydantic-core==2.16.2 in /home/drlores/micromamba/envs/env/lib/python3.8/site-packages (from pydantic->data_manager==1.0.0) (2.16.2)\n",
      "Requirement already satisfied: typing-extensions>=4.6.1 in /home/drlores/micromamba/envs/env/lib/python3.8/site-packages (from pydantic->data_manager==1.0.0) (4.9.0)\n",
      "Requirement already satisfied: aiobotocore<3.0.0,>=2.5.4 in /home/drlores/micromamba/envs/env/lib/python3.8/site-packages (from s3fs->data_manager==1.0.0) (2.11.2)\n",
      "Requirement already satisfied: aiohttp!=4.0.0a0,!=4.0.0a1 in /home/drlores/micromamba/envs/env/lib/python3.8/site-packages (from s3fs->data_manager==1.0.0) (3.9.3)\n",
      "Requirement already satisfied: botocore<1.34.35,>=1.33.2 in /home/drlores/micromamba/envs/env/lib/python3.8/site-packages (from aiobotocore<3.0.0,>=2.5.4->s3fs->data_manager==1.0.0) (1.34.34)\n",
      "Requirement already satisfied: wrapt<2.0.0,>=1.10.10 in /home/drlores/micromamba/envs/env/lib/python3.8/site-packages (from aiobotocore<3.0.0,>=2.5.4->s3fs->data_manager==1.0.0) (1.16.0)\n",
      "Requirement already satisfied: aioitertools<1.0.0,>=0.5.1 in /home/drlores/micromamba/envs/env/lib/python3.8/site-packages (from aiobotocore<3.0.0,>=2.5.4->s3fs->data_manager==1.0.0) (0.11.0)\n",
      "Requirement already satisfied: aiosignal>=1.1.2 in /home/drlores/micromamba/envs/env/lib/python3.8/site-packages (from aiohttp!=4.0.0a0,!=4.0.0a1->s3fs->data_manager==1.0.0) (1.3.1)\n",
      "Requirement already satisfied: attrs>=17.3.0 in /home/drlores/micromamba/envs/env/lib/python3.8/site-packages (from aiohttp!=4.0.0a0,!=4.0.0a1->s3fs->data_manager==1.0.0) (23.2.0)\n",
      "Requirement already satisfied: frozenlist>=1.1.1 in /home/drlores/micromamba/envs/env/lib/python3.8/site-packages (from aiohttp!=4.0.0a0,!=4.0.0a1->s3fs->data_manager==1.0.0) (1.4.1)\n",
      "Requirement already satisfied: multidict<7.0,>=4.5 in /home/drlores/micromamba/envs/env/lib/python3.8/site-packages (from aiohttp!=4.0.0a0,!=4.0.0a1->s3fs->data_manager==1.0.0) (6.0.5)\n",
      "Requirement already satisfied: yarl<2.0,>=1.0 in /home/drlores/micromamba/envs/env/lib/python3.8/site-packages (from aiohttp!=4.0.0a0,!=4.0.0a1->s3fs->data_manager==1.0.0) (1.9.4)\n",
      "Requirement already satisfied: async-timeout<5.0,>=4.0 in /home/drlores/micromamba/envs/env/lib/python3.8/site-packages (from aiohttp!=4.0.0a0,!=4.0.0a1->s3fs->data_manager==1.0.0) (4.0.3)\n",
      "Requirement already satisfied: Mako in /home/drlores/micromamba/envs/env/lib/python3.8/site-packages (from alembic!=1.10.0,<2->mlflow->data_manager==1.0.0) (1.3.2)\n",
      "Requirement already satisfied: urllib3>=1.26.0 in /home/drlores/micromamba/envs/env/lib/python3.8/site-packages (from docker<8,>=4.0.0->mlflow->data_manager==1.0.0) (1.26.18)\n",
      "Requirement already satisfied: Werkzeug>=3.0.0 in /home/drlores/micromamba/envs/env/lib/python3.8/site-packages (from Flask<4->mlflow->data_manager==1.0.0) (3.0.1)\n",
      "Requirement already satisfied: itsdangerous>=2.1.2 in /home/drlores/micromamba/envs/env/lib/python3.8/site-packages (from Flask<4->mlflow->data_manager==1.0.0) (2.1.2)\n",
      "Requirement already satisfied: blinker>=1.6.2 in /home/drlores/micromamba/envs/env/lib/python3.8/site-packages (from Flask<4->mlflow->data_manager==1.0.0) (1.7.0)\n",
      "Requirement already satisfied: gitdb<5,>=4.0.1 in /home/drlores/micromamba/envs/env/lib/python3.8/site-packages (from gitpython<4,>=2.1.0->mlflow->data_manager==1.0.0) (4.0.11)\n",
      "Requirement already satisfied: zipp>=0.5 in /home/drlores/micromamba/envs/env/lib/python3.8/site-packages (from importlib-metadata!=4.7.0,<8,>=3.7.0->mlflow->data_manager==1.0.0) (3.17.0)\n",
      "Requirement already satisfied: MarkupSafe>=2.0 in /home/drlores/micromamba/envs/env/lib/python3.8/site-packages (from Jinja2<4,>=2.11->mlflow->data_manager==1.0.0) (2.1.5)\n",
      "Requirement already satisfied: six>=1.5 in /home/drlores/micromamba/envs/env/lib/python3.8/site-packages (from python-dateutil>=2.7->matplotlib->data_manager==1.0.0) (1.16.0)\n",
      "Requirement already satisfied: charset-normalizer<4,>=2 in /home/drlores/micromamba/envs/env/lib/python3.8/site-packages (from requests<3,>=2.17.3->mlflow->data_manager==1.0.0) (3.3.2)\n",
      "Requirement already satisfied: idna<4,>=2.5 in /home/drlores/micromamba/envs/env/lib/python3.8/site-packages (from requests<3,>=2.17.3->mlflow->data_manager==1.0.0) (3.6)\n",
      "Requirement already satisfied: certifi>=2017.4.17 in /home/drlores/micromamba/envs/env/lib/python3.8/site-packages (from requests<3,>=2.17.3->mlflow->data_manager==1.0.0) (2024.2.2)\n",
      "Requirement already satisfied: joblib>=1.1.1 in /home/drlores/micromamba/envs/env/lib/python3.8/site-packages (from scikit-learn<2->mlflow->data_manager==1.0.0) (1.3.2)\n",
      "Requirement already satisfied: threadpoolctl>=2.0.0 in /home/drlores/micromamba/envs/env/lib/python3.8/site-packages (from scikit-learn<2->mlflow->data_manager==1.0.0) (3.3.0)\n",
      "Requirement already satisfied: jmespath<2.0.0,>=0.7.1 in /home/drlores/micromamba/envs/env/lib/python3.8/site-packages (from botocore<1.34.35,>=1.33.2->aiobotocore<3.0.0,>=2.5.4->s3fs->data_manager==1.0.0) (1.0.1)\n",
      "Requirement already satisfied: smmap<6,>=3.0.1 in /home/drlores/micromamba/envs/env/lib/python3.8/site-packages (from gitdb<5,>=4.0.1->gitpython<4,>=2.1.0->mlflow->data_manager==1.0.0) (5.0.1)\n",
      "Building wheels for collected packages: data_manager\n",
      "  Building wheel for data_manager (pyproject.toml) ... \u001b[?25ldone\n",
      "\u001b[?25h  Created wheel for data_manager: filename=data_manager-1.0.0-py3-none-any.whl size=14597 sha256=02fab0487aff96bdb0aacbd9e7a915c47702a4ee7d6604c89cafcdd8c1874e82\n",
      "  Stored in directory: /home/drlores/.cache/pip/wheels/85/43/83/eaa595f541f9f188a8cc5dfa5c7db4f6ac4ddd7f3f30bc48ac\n",
      "Successfully built data_manager\n",
      "Installing collected packages: data_manager\n",
      "  Attempting uninstall: data_manager\n",
      "    Found existing installation: data_manager 1.0.0\n",
      "    Uninstalling data_manager-1.0.0:\n",
      "      Successfully uninstalled data_manager-1.0.0\n",
      "Successfully installed data_manager-1.0.0\n",
      "Note: you may need to restart the kernel to use updated packages.\n",
      "Requirement already satisfied: seaborn in /home/drlores/micromamba/envs/env/lib/python3.8/site-packages (0.13.2)\n",
      "Requirement already satisfied: numpy!=1.24.0,>=1.20 in /home/drlores/micromamba/envs/env/lib/python3.8/site-packages (from seaborn) (1.24.4)\n",
      "Requirement already satisfied: pandas>=1.2 in /home/drlores/micromamba/envs/env/lib/python3.8/site-packages (from seaborn) (2.0.3)\n",
      "Requirement already satisfied: matplotlib!=3.6.1,>=3.4 in /home/drlores/micromamba/envs/env/lib/python3.8/site-packages (from seaborn) (3.7.4)\n",
      "Requirement already satisfied: contourpy>=1.0.1 in /home/drlores/micromamba/envs/env/lib/python3.8/site-packages (from matplotlib!=3.6.1,>=3.4->seaborn) (1.1.1)\n",
      "Requirement already satisfied: cycler>=0.10 in /home/drlores/micromamba/envs/env/lib/python3.8/site-packages (from matplotlib!=3.6.1,>=3.4->seaborn) (0.12.1)\n",
      "Requirement already satisfied: fonttools>=4.22.0 in /home/drlores/micromamba/envs/env/lib/python3.8/site-packages (from matplotlib!=3.6.1,>=3.4->seaborn) (4.48.1)\n",
      "Requirement already satisfied: kiwisolver>=1.0.1 in /home/drlores/micromamba/envs/env/lib/python3.8/site-packages (from matplotlib!=3.6.1,>=3.4->seaborn) (1.4.5)\n",
      "Requirement already satisfied: packaging>=20.0 in /home/drlores/micromamba/envs/env/lib/python3.8/site-packages (from matplotlib!=3.6.1,>=3.4->seaborn) (23.2)\n",
      "Requirement already satisfied: pillow>=6.2.0 in /home/drlores/micromamba/envs/env/lib/python3.8/site-packages (from matplotlib!=3.6.1,>=3.4->seaborn) (10.2.0)\n",
      "Requirement already satisfied: pyparsing>=2.3.1 in /home/drlores/micromamba/envs/env/lib/python3.8/site-packages (from matplotlib!=3.6.1,>=3.4->seaborn) (3.1.1)\n",
      "Requirement already satisfied: python-dateutil>=2.7 in /home/drlores/micromamba/envs/env/lib/python3.8/site-packages (from matplotlib!=3.6.1,>=3.4->seaborn) (2.8.2)\n",
      "Requirement already satisfied: importlib-resources>=3.2.0 in /home/drlores/micromamba/envs/env/lib/python3.8/site-packages (from matplotlib!=3.6.1,>=3.4->seaborn) (6.1.1)\n",
      "Requirement already satisfied: pytz>=2020.1 in /home/drlores/micromamba/envs/env/lib/python3.8/site-packages (from pandas>=1.2->seaborn) (2023.4)\n",
      "Requirement already satisfied: tzdata>=2022.1 in /home/drlores/micromamba/envs/env/lib/python3.8/site-packages (from pandas>=1.2->seaborn) (2024.1)\n",
      "Requirement already satisfied: zipp>=3.1.0 in /home/drlores/micromamba/envs/env/lib/python3.8/site-packages (from importlib-resources>=3.2.0->matplotlib!=3.6.1,>=3.4->seaborn) (3.17.0)\n",
      "Requirement already satisfied: six>=1.5 in /home/drlores/micromamba/envs/env/lib/python3.8/site-packages (from python-dateutil>=2.7->matplotlib!=3.6.1,>=3.4->seaborn) (1.16.0)\n",
      "Note: you may need to restart the kernel to use updated packages.\n",
      "Collecting sklearn\n",
      "  Using cached sklearn-0.0.post12.tar.gz (2.6 kB)\n",
      "  Preparing metadata (setup.py) ... \u001b[?25lerror\n",
      "  \u001b[1;31merror\u001b[0m: \u001b[1msubprocess-exited-with-error\u001b[0m\n",
      "  \n",
      "  \u001b[31m×\u001b[0m \u001b[32mpython setup.py egg_info\u001b[0m did not run successfully.\n",
      "  \u001b[31m│\u001b[0m exit code: \u001b[1;36m1\u001b[0m\n",
      "  \u001b[31m╰─>\u001b[0m \u001b[31m[15 lines of output]\u001b[0m\n",
      "  \u001b[31m   \u001b[0m The 'sklearn' PyPI package is deprecated, use 'scikit-learn'\n",
      "  \u001b[31m   \u001b[0m rather than 'sklearn' for pip commands.\n",
      "  \u001b[31m   \u001b[0m \n",
      "  \u001b[31m   \u001b[0m Here is how to fix this error in the main use cases:\n",
      "  \u001b[31m   \u001b[0m - use 'pip install scikit-learn' rather than 'pip install sklearn'\n",
      "  \u001b[31m   \u001b[0m - replace 'sklearn' by 'scikit-learn' in your pip requirements files\n",
      "  \u001b[31m   \u001b[0m   (requirements.txt, setup.py, setup.cfg, Pipfile, etc ...)\n",
      "  \u001b[31m   \u001b[0m - if the 'sklearn' package is used by one of your dependencies,\n",
      "  \u001b[31m   \u001b[0m   it would be great if you take some time to track which package uses\n",
      "  \u001b[31m   \u001b[0m   'sklearn' instead of 'scikit-learn' and report it to their issue tracker\n",
      "  \u001b[31m   \u001b[0m - as a last resort, set the environment variable\n",
      "  \u001b[31m   \u001b[0m   SKLEARN_ALLOW_DEPRECATED_SKLEARN_PACKAGE_INSTALL=True to avoid this error\n",
      "  \u001b[31m   \u001b[0m \n",
      "  \u001b[31m   \u001b[0m More information is available at\n",
      "  \u001b[31m   \u001b[0m https://github.com/scikit-learn/sklearn-pypi-package\n",
      "  \u001b[31m   \u001b[0m \u001b[31m[end of output]\u001b[0m\n",
      "  \n",
      "  \u001b[1;35mnote\u001b[0m: This error originates from a subprocess, and is likely not a problem with pip.\n",
      "\u001b[?25h\u001b[1;31merror\u001b[0m: \u001b[1mmetadata-generation-failed\u001b[0m\n",
      "\n",
      "\u001b[31m×\u001b[0m Encountered error while generating package metadata.\n",
      "\u001b[31m╰─>\u001b[0m See above for output.\n",
      "\n",
      "\u001b[1;35mnote\u001b[0m: This is an issue with the package mentioned above, not pip.\n",
      "\u001b[1;36mhint\u001b[0m: See above for details.\n",
      "Note: you may need to restart the kernel to use updated packages.\n"
     ]
    }
   ],
   "source": [
    "%pip install .\n",
    "%pip install seaborn\n",
    "%pip install sklearn"
   ]
  },
  {
   "cell_type": "code",
   "execution_count": 2,
   "metadata": {},
   "outputs": [
    {
     "data": {
      "text/html": [
       "<div>\n",
       "<style scoped>\n",
       "    .dataframe tbody tr th:only-of-type {\n",
       "        vertical-align: middle;\n",
       "    }\n",
       "\n",
       "    .dataframe tbody tr th {\n",
       "        vertical-align: top;\n",
       "    }\n",
       "\n",
       "    .dataframe thead th {\n",
       "        text-align: right;\n",
       "    }\n",
       "</style>\n",
       "<table border=\"1\" class=\"dataframe\">\n",
       "  <thead>\n",
       "    <tr style=\"text-align: right;\">\n",
       "      <th></th>\n",
       "      <th>sepal_length</th>\n",
       "      <th>sepal_width</th>\n",
       "      <th>petal_length</th>\n",
       "      <th>petal_width</th>\n",
       "      <th>species</th>\n",
       "    </tr>\n",
       "  </thead>\n",
       "  <tbody>\n",
       "    <tr>\n",
       "      <th>0</th>\n",
       "      <td>5.1</td>\n",
       "      <td>3.5</td>\n",
       "      <td>1.4</td>\n",
       "      <td>0.2</td>\n",
       "      <td>setosa</td>\n",
       "    </tr>\n",
       "    <tr>\n",
       "      <th>1</th>\n",
       "      <td>4.9</td>\n",
       "      <td>3.0</td>\n",
       "      <td>1.4</td>\n",
       "      <td>0.2</td>\n",
       "      <td>setosa</td>\n",
       "    </tr>\n",
       "    <tr>\n",
       "      <th>2</th>\n",
       "      <td>4.7</td>\n",
       "      <td>3.2</td>\n",
       "      <td>1.3</td>\n",
       "      <td>0.2</td>\n",
       "      <td>setosa</td>\n",
       "    </tr>\n",
       "    <tr>\n",
       "      <th>3</th>\n",
       "      <td>4.6</td>\n",
       "      <td>3.1</td>\n",
       "      <td>1.5</td>\n",
       "      <td>0.2</td>\n",
       "      <td>setosa</td>\n",
       "    </tr>\n",
       "    <tr>\n",
       "      <th>4</th>\n",
       "      <td>5.0</td>\n",
       "      <td>3.6</td>\n",
       "      <td>1.4</td>\n",
       "      <td>0.2</td>\n",
       "      <td>setosa</td>\n",
       "    </tr>\n",
       "  </tbody>\n",
       "</table>\n",
       "</div>"
      ],
      "text/plain": [
       "   sepal_length  sepal_width  petal_length  petal_width species\n",
       "0           5.1          3.5           1.4          0.2  setosa\n",
       "1           4.9          3.0           1.4          0.2  setosa\n",
       "2           4.7          3.2           1.3          0.2  setosa\n",
       "3           4.6          3.1           1.5          0.2  setosa\n",
       "4           5.0          3.6           1.4          0.2  setosa"
      ]
     },
     "execution_count": 2,
     "metadata": {},
     "output_type": "execute_result"
    }
   ],
   "source": [
    "import seaborn as sns\n",
    "\n",
    "iris = sns.load_dataset('iris')\n",
    "iris.head()"
   ]
  },
  {
   "cell_type": "code",
   "execution_count": 8,
   "metadata": {},
   "outputs": [],
   "source": [
    "from data_manager import get_data_manager\n",
    "manager = get_data_manager(saver_args={\"auto_mkdir\": True})\n",
    "manager.save(iris, file_key=\"tmp/files/iris.parquet\")"
   ]
  },
  {
   "cell_type": "code",
   "execution_count": 9,
   "metadata": {},
   "outputs": [
    {
     "data": {
      "text/plain": [
       "(150, 5)"
      ]
     },
     "execution_count": 9,
     "metadata": {},
     "output_type": "execute_result"
    }
   ],
   "source": [
    "df=manager.load(file_key=\"tmp/files/iris.parquet\")\n",
    "df.shape"
   ]
  },
  {
   "cell_type": "code",
   "execution_count": 10,
   "metadata": {},
   "outputs": [
    {
     "data": {
      "text/plain": [
       "(100, 5)"
      ]
     },
     "execution_count": 10,
     "metadata": {},
     "output_type": "execute_result"
    }
   ],
   "source": [
    "from sklearn.model_selection import train_test_split\n",
    "\n",
    "df_train, df_test = train_test_split(iris, test_size=0.33)\n",
    "df_train.shape"
   ]
  },
  {
   "cell_type": "code",
   "execution_count": 11,
   "metadata": {},
   "outputs": [
    {
     "data": {
      "text/plain": [
       "(100, 5)"
      ]
     },
     "execution_count": 11,
     "metadata": {},
     "output_type": "execute_result"
    }
   ],
   "source": [
    "mlflow_conf={\"tracking_uri\": \"mlruns\", \"experiment_name\": \"dummy_experiment\", \"run_name\": \"dummy_run\"}\n",
    "manager = get_data_manager(loader_type=\"mlflow\", loader_args=mlflow_conf, \n",
    "                           saver_type=\"mlflow\", saver_args=mlflow_conf)\n",
    "\n",
    "manager.save(df_train, file_key=\"train_iris.csv\")\n",
    "manager.save(df_test, file_key=\"test_iris.csv\")\n",
    "\n",
    "df = manager.load(file_key=\"train_iris.csv\")\n",
    "df.shape"
   ]
  }
 ],
 "metadata": {
  "kernelspec": {
   "display_name": "env",
   "language": "python",
   "name": "python3"
  },
  "language_info": {
   "codemirror_mode": {
    "name": "ipython",
    "version": 3
   },
   "file_extension": ".py",
   "mimetype": "text/x-python",
   "name": "python",
   "nbconvert_exporter": "python",
   "pygments_lexer": "ipython3",
   "version": "3.8.18"
  },
  "orig_nbformat": 4
 },
 "nbformat": 4,
 "nbformat_minor": 2
}
